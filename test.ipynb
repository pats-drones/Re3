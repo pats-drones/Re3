{
 "metadata": {
  "language_info": {
   "codemirror_mode": {
    "name": "ipython",
    "version": 3
   },
   "file_extension": ".py",
   "mimetype": "text/x-python",
   "name": "python",
   "nbconvert_exporter": "python",
   "pygments_lexer": "ipython3",
   "version": "3.7.0-final"
  },
  "orig_nbformat": 2,
  "kernelspec": {
   "name": "python37064bita67030a944b2498480f3260102f62089",
   "display_name": "Python 3.7.0 64-bit"
  }
 },
 "nbformat": 4,
 "nbformat_minor": 2,
 "cells": [
  {
   "cell_type": "code",
   "execution_count": 3,
   "metadata": {},
   "outputs": [],
   "source": [
    "import numpy as np"
   ]
  },
  {
   "cell_type": "code",
   "execution_count": 33,
   "metadata": {
    "tags": []
   },
   "outputs": [],
   "source": [
    "p_np = \"/home/pats/Documents/datasets/completed_dataset/val/labels.npy\"\n",
    "p_txt =\"/home/pats/Documents/datasets/completed_dataset/val/image_names.txt\"\n",
    "arr = np.load(p_np)\n",
    "with open(p_txt, \"r\") as r:\n",
    "    data = r.readlines()\n",
    "\n",
    "x = (len(data), arr.shape[0])"
   ]
  },
  {
   "cell_type": "code",
   "execution_count": 34,
   "metadata": {
    "tags": []
   },
   "outputs": [],
   "source": [
    "p_np = \"/home/pats/Documents/datasets/completed_dataset/train/labels.npy\"\n",
    "p_txt =\"/home/pats/Documents/datasets/completed_dataset/train/image_names.txt\"\n",
    "arr = np.load(p_np)\n",
    "with open(p_txt, \"r\") as r:\n",
    "    data = r.readlines()\n",
    "\n",
    "y = (len(data), arr.shape[0])"
   ]
  },
  {
   "cell_type": "code",
   "execution_count": 36,
   "metadata": {},
   "outputs": [
    {
     "output_type": "execute_result",
     "data": {
      "text/plain": "6000"
     },
     "metadata": {},
     "execution_count": 36
    }
   ],
   "source": [
    "x[0] + y[0]"
   ]
  },
  {
   "cell_type": "code",
   "execution_count": 20,
   "metadata": {},
   "outputs": [
    {
     "output_type": "execute_result",
     "data": {
      "text/plain": "0.6411803884299546"
     },
     "metadata": {},
     "execution_count": 20
    }
   ],
   "source": [
    "np.exp(-30.0 * 20/1350)"
   ]
  },
  {
   "cell_type": "code",
   "execution_count": null,
   "metadata": {},
   "outputs": [],
   "source": []
  }
 ]
}